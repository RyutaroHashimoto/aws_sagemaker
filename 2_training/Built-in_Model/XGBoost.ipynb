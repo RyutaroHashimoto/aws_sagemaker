{
 "cells": [
  {
   "cell_type": "markdown",
   "metadata": {},
   "source": [
    "<br />\n",
    "\n",
    "<div style=\"text-align: center;\">\n",
    "<font size=\"7\">Training Built-in Machine learning Models</font>\n",
    "<br /> \n",
    "<br /> \n",
    "<font size=\"5\">XGBoost</font>\n",
    "    \n",
    "</div>\n",
    "<br />\n",
    "\n",
    "<div style=\"text-align: right;\">\n",
    "<font size=\"4\">2020/11/11</font>\n",
    "<br />\n",
    "<font size=\"4\">Ryutaro Hashimoto</font>\n",
    "</div>\n",
    "\n",
    "___"
   ]
  },
  {
   "cell_type": "markdown",
   "metadata": {},
   "source": [
    "# Summary\n",
    "- We will use a machine learning model that is pre-built in SageMaker."
   ]
  },
  {
   "cell_type": "markdown",
   "metadata": {
    "toc": true
   },
   "source": [
    "<h1>Table of Contents<span class=\"tocSkip\"></span></h1>\n",
    "<div class=\"toc\"><ul class=\"toc-item\"><li><span><a href=\"#Define-Training-Job\" data-toc-modified-id=\"Define-Training-Job-1\"><span class=\"toc-item-num\">1&nbsp;&nbsp;</span>Define Training Job</a></span><ul class=\"toc-item\"><li><span><a href=\"#Get-the-container-image-to-use.\" data-toc-modified-id=\"Get-the-container-image-to-use.-1.1\"><span class=\"toc-item-num\">1.1&nbsp;&nbsp;</span>Get the container image to use.</a></span></li><li><span><a href=\"#学習ジョブを定義\" data-toc-modified-id=\"学習ジョブを定義-1.2\"><span class=\"toc-item-num\">1.2&nbsp;&nbsp;</span>学習ジョブを定義</a></span></li><li><span><a href=\"#Set-hyperparameters\" data-toc-modified-id=\"Set-hyperparameters-1.3\"><span class=\"toc-item-num\">1.3&nbsp;&nbsp;</span>Set hyperparameters</a></span></li><li><span><a href=\"#Define-data-input-and-output\" data-toc-modified-id=\"Define-data-input-and-output-1.4\"><span class=\"toc-item-num\">1.4&nbsp;&nbsp;</span>Define data input and output</a></span></li></ul></li><li><span><a href=\"#Execute-Training-Job\" data-toc-modified-id=\"Execute-Training-Job-2\"><span class=\"toc-item-num\">2&nbsp;&nbsp;</span>Execute Training Job</a></span></li><li><span><a href=\"#Create-endpoints-and-predict-them-with-learning-models\" data-toc-modified-id=\"Create-endpoints-and-predict-them-with-learning-models-3\"><span class=\"toc-item-num\">3&nbsp;&nbsp;</span>Create endpoints and predict them with learning models</a></span><ul class=\"toc-item\"><li><span><a href=\"#Launch-endpoint\" data-toc-modified-id=\"Launch-endpoint-3.1\"><span class=\"toc-item-num\">3.1&nbsp;&nbsp;</span>Launch endpoint</a></span></li><li><span><a href=\"#Predict-an-appropriate-sample\" data-toc-modified-id=\"Predict-an-appropriate-sample-3.2\"><span class=\"toc-item-num\">3.2&nbsp;&nbsp;</span>Predict an appropriate sample</a></span></li></ul></li><li><span><a href=\"#Delete-endpoint\" data-toc-modified-id=\"Delete-endpoint-4\"><span class=\"toc-item-num\">4&nbsp;&nbsp;</span>Delete endpoint</a></span></li></ul></div>"
   ]
  },
  {
   "cell_type": "markdown",
   "metadata": {},
   "source": [
    "## Define Training Job"
   ]
  },
  {
   "cell_type": "markdown",
   "metadata": {},
   "source": [
    "### Get the container image to use."
   ]
  },
  {
   "cell_type": "code",
   "execution_count": 1,
   "metadata": {},
   "outputs": [
    {
     "name": "stdout",
     "output_type": "stream",
     "text": [
      "433757028032.dkr.ecr.us-west-2.amazonaws.com/xgboost:latest\n"
     ]
    }
   ],
   "source": [
    "import boto3\n",
    "import sagemaker\n",
    "\n",
    "region = boto3.Session().region_name\n",
    "\n",
    "container = sagemaker.image_uris.retrieve(\n",
    "                              framework = 'xgboost',\n",
    "                              region = region,\n",
    "                              version='latest',\n",
    "                              py_version='py3',\n",
    "                              instance_type=None,\n",
    "                                )\n",
    "print(container)"
   ]
  },
  {
   "cell_type": "markdown",
   "metadata": {},
   "source": [
    "### 学習ジョブを定義"
   ]
  },
  {
   "cell_type": "code",
   "execution_count": 2,
   "metadata": {},
   "outputs": [],
   "source": [
    "from sagemaker.estimator import Estimator\n",
    "\n",
    "role_ARN = 'xxxxxxxxxxxxxxxxxxxxxxxxxxxxx'    # ← your iam role ARN\n",
    "\n",
    "xgb_estimator = Estimator(container,\n",
    "    role=role_ARN, \n",
    "    instance_count=1,\n",
    "    instance_type='ml.m5.large',\n",
    "    output_path='<S3 path>',\n",
    "    base_job_name = 'XGBoost',\n",
    "    tags = [{\"Key\":\"name\", \"Value\": \"name\"},\n",
    "            {\"Key\":\"project\", \"Value\": \"project1\"}]\n",
    ")"
   ]
  },
  {
   "cell_type": "markdown",
   "metadata": {},
   "source": [
    "### Set hyperparameters"
   ]
  },
  {
   "cell_type": "code",
   "execution_count": 3,
   "metadata": {},
   "outputs": [],
   "source": [
    "xgb_estimator.set_hyperparameters(objective='reg:linear',\n",
    "                                 num_round=200,\n",
    "                                 early_stopping_rounds=10)"
   ]
  },
  {
   "cell_type": "markdown",
   "metadata": {},
   "source": [
    "### Define data input and output"
   ]
  },
  {
   "cell_type": "code",
   "execution_count": 4,
   "metadata": {},
   "outputs": [],
   "source": [
    "training_data_channel   = sagemaker.TrainingInput(\n",
    "                                        s3_data = 's3://sagemaker-tutorial-hashimoto/boston-housing/training_dataset.csv', \n",
    "                                        content_type='text/csv')\n",
    "\n",
    "validation_data_channel   = sagemaker.TrainingInput(\n",
    "                                        s3_data = 's3://sagemaker-tutorial-hashimoto/boston-housing/validation_dataset.csv', \n",
    "                                        content_type='text/csv')\n",
    "\n",
    "xgb_data = {'train': training_data_channel, 'validation': validation_data_channel}"
   ]
  },
  {
   "cell_type": "markdown",
   "metadata": {},
   "source": [
    "## Execute Training Job"
   ]
  },
  {
   "cell_type": "code",
   "execution_count": 5,
   "metadata": {},
   "outputs": [
    {
     "name": "stdout",
     "output_type": "stream",
     "text": [
      "2021-02-05 06:02:51 Starting - Starting the training job...\n",
      "2021-02-05 06:03:19 Starting - Launching requested ML instancesProfilerReport-1612504971: InProgress\n",
      "......\n",
      "2021-02-05 06:04:20 Starting - Preparing the instances for training...\n",
      "2021-02-05 06:05:00 Downloading - Downloading input data...\n",
      "2021-02-05 06:05:31 Training - Downloading the training image..\u001b[34mArguments: train\u001b[0m\n",
      "\u001b[34m[2021-02-05:06:05:45:INFO] Running standalone xgboost training.\u001b[0m\n",
      "\u001b[34m[2021-02-05:06:05:45:INFO] File size need to be processed in the node: 0.04mb. Available memory size in the node: 220.71mb\u001b[0m\n",
      "\u001b[34m[2021-02-05:06:05:45:INFO] Determined delimiter of CSV input is ','\u001b[0m\n",
      "\u001b[34m[06:05:45] S3DistributionType set as FullyReplicated\u001b[0m\n",
      "\u001b[34m[06:05:45] 455x12 matrix with 5460 entries loaded from /opt/ml/input/data/train?format=csv&label_column=0&delimiter=,\u001b[0m\n",
      "\u001b[34m[2021-02-05:06:05:45:INFO] Determined delimiter of CSV input is ','\u001b[0m\n",
      "\u001b[34m[06:05:45] S3DistributionType set as FullyReplicated\u001b[0m\n",
      "\u001b[34m[06:05:45] 51x12 matrix with 612 entries loaded from /opt/ml/input/data/validation?format=csv&label_column=0&delimiter=,\u001b[0m\n",
      "\u001b[34m[06:05:45] src/tree/updater_prune.cc:74: tree pruning end, 1 roots, 18 extra nodes, 0 pruned nodes, max_depth=5\u001b[0m\n",
      "\u001b[34m[0]#011train-rmse:17.2159#011validation-rmse:15.6791\u001b[0m\n",
      "\u001b[34mMultiple eval metrics have been passed: 'validation-rmse' will be used for early stopping.\n",
      "\u001b[0m\n",
      "\u001b[34mWill train until validation-rmse hasn't improved in 10 rounds.\u001b[0m\n",
      "\u001b[34m[06:05:45] src/tree/updater_prune.cc:74: tree pruning end, 1 roots, 28 extra nodes, 0 pruned nodes, max_depth=6\u001b[0m\n",
      "\u001b[34m[1]#011train-rmse:12.3819#011validation-rmse:11.1452\u001b[0m\n",
      "\u001b[34m[06:05:45] src/tree/updater_prune.cc:74: tree pruning end, 1 roots, 40 extra nodes, 0 pruned nodes, max_depth=6\u001b[0m\n",
      "\u001b[34m[2]#011train-rmse:9.00451#011validation-rmse:8.26249\u001b[0m\n",
      "\u001b[34m[06:05:45] src/tree/updater_prune.cc:74: tree pruning end, 1 roots, 52 extra nodes, 0 pruned nodes, max_depth=6\u001b[0m\n",
      "\u001b[34m[3]#011train-rmse:6.62289#011validation-rmse:6.34759\u001b[0m\n",
      "\u001b[34m[06:05:45] src/tree/updater_prune.cc:74: tree pruning end, 1 roots, 52 extra nodes, 0 pruned nodes, max_depth=6\u001b[0m\n",
      "\u001b[34m[4]#011train-rmse:4.92584#011validation-rmse:5.16112\u001b[0m\n",
      "\u001b[34m[06:05:45] src/tree/updater_prune.cc:74: tree pruning end, 1 roots, 58 extra nodes, 0 pruned nodes, max_depth=6\u001b[0m\n",
      "\u001b[34m[5]#011train-rmse:3.75362#011validation-rmse:4.47542\u001b[0m\n",
      "\u001b[34m[06:05:45] src/tree/updater_prune.cc:74: tree pruning end, 1 roots, 56 extra nodes, 0 pruned nodes, max_depth=6\u001b[0m\n",
      "\u001b[34m[6]#011train-rmse:2.9153#011validation-rmse:4.141\u001b[0m\n",
      "\u001b[34m[06:05:45] src/tree/updater_prune.cc:74: tree pruning end, 1 roots, 60 extra nodes, 0 pruned nodes, max_depth=6\u001b[0m\n",
      "\u001b[34m[7]#011train-rmse:2.34666#011validation-rmse:3.94453\u001b[0m\n",
      "\u001b[34m[06:05:45] src/tree/updater_prune.cc:74: tree pruning end, 1 roots, 62 extra nodes, 0 pruned nodes, max_depth=6\u001b[0m\n",
      "\u001b[34m[8]#011train-rmse:1.95284#011validation-rmse:3.87596\u001b[0m\n",
      "\u001b[34m[06:05:45] src/tree/updater_prune.cc:74: tree pruning end, 1 roots, 58 extra nodes, 0 pruned nodes, max_depth=6\u001b[0m\n",
      "\u001b[34m[9]#011train-rmse:1.67859#011validation-rmse:3.84742\u001b[0m\n",
      "\u001b[34m[06:05:45] src/tree/updater_prune.cc:74: tree pruning end, 1 roots, 60 extra nodes, 0 pruned nodes, max_depth=6\u001b[0m\n",
      "\u001b[34m[10]#011train-rmse:1.47934#011validation-rmse:3.86498\u001b[0m\n",
      "\u001b[34m[06:05:45] src/tree/updater_prune.cc:74: tree pruning end, 1 roots, 58 extra nodes, 0 pruned nodes, max_depth=6\u001b[0m\n",
      "\u001b[34m[11]#011train-rmse:1.34501#011validation-rmse:3.87236\u001b[0m\n",
      "\u001b[34m[06:05:45] src/tree/updater_prune.cc:74: tree pruning end, 1 roots, 54 extra nodes, 0 pruned nodes, max_depth=6\u001b[0m\n",
      "\u001b[34m[12]#011train-rmse:1.24607#011validation-rmse:3.8803\u001b[0m\n",
      "\u001b[34m[06:05:45] src/tree/updater_prune.cc:74: tree pruning end, 1 roots, 52 extra nodes, 0 pruned nodes, max_depth=6\u001b[0m\n",
      "\u001b[34m[13]#011train-rmse:1.15527#011validation-rmse:3.92431\u001b[0m\n",
      "\u001b[34m[06:05:45] src/tree/updater_prune.cc:74: tree pruning end, 1 roots, 46 extra nodes, 0 pruned nodes, max_depth=6\u001b[0m\n",
      "\u001b[34m[14]#011train-rmse:1.11074#011validation-rmse:3.93282\u001b[0m\n",
      "\u001b[34m[06:05:45] src/tree/updater_prune.cc:74: tree pruning end, 1 roots, 64 extra nodes, 0 pruned nodes, max_depth=6\u001b[0m\n",
      "\u001b[34m[15]#011train-rmse:1.03263#011validation-rmse:3.93465\u001b[0m\n",
      "\u001b[34m[06:05:45] src/tree/updater_prune.cc:74: tree pruning end, 1 roots, 72 extra nodes, 0 pruned nodes, max_depth=6\u001b[0m\n",
      "\u001b[34m[16]#011train-rmse:0.964578#011validation-rmse:3.94173\u001b[0m\n",
      "\u001b[34m[06:05:45] src/tree/updater_prune.cc:74: tree pruning end, 1 roots, 84 extra nodes, 0 pruned nodes, max_depth=6\u001b[0m\n",
      "\u001b[34m[17]#011train-rmse:0.895065#011validation-rmse:3.95272\u001b[0m\n",
      "\u001b[34m[06:05:45] src/tree/updater_prune.cc:74: tree pruning end, 1 roots, 30 extra nodes, 0 pruned nodes, max_depth=6\u001b[0m\n",
      "\u001b[34m[18]#011train-rmse:0.875568#011validation-rmse:3.94628\u001b[0m\n",
      "\u001b[34m[06:05:45] src/tree/updater_prune.cc:74: tree pruning end, 1 roots, 54 extra nodes, 0 pruned nodes, max_depth=6\u001b[0m\n",
      "\u001b[34m[19]#011train-rmse:0.84921#011validation-rmse:3.96248\u001b[0m\n",
      "\u001b[34mStopping. Best iteration:\u001b[0m\n",
      "\u001b[34m[9]#011train-rmse:1.67859#011validation-rmse:3.84742\n",
      "\u001b[0m\n",
      "\n",
      "2021-02-05 06:06:01 Uploading - Uploading generated training model\n",
      "2021-02-05 06:06:01 Completed - Training job completed\n",
      "Training seconds: 63\n",
      "Billable seconds: 63\n"
     ]
    }
   ],
   "source": [
    "xgb_estimator.fit(xgb_data)"
   ]
  },
  {
   "cell_type": "markdown",
   "metadata": {},
   "source": [
    "## Create endpoints and predict them with learning models"
   ]
  },
  {
   "cell_type": "markdown",
   "metadata": {},
   "source": [
    "### Launch endpoint"
   ]
  },
  {
   "cell_type": "code",
   "execution_count": 6,
   "metadata": {},
   "outputs": [
    {
     "name": "stdout",
     "output_type": "stream",
     "text": [
      "XGBoost-demo-05-06-06-23\n",
      "---------------!"
     ]
    }
   ],
   "source": [
    "from time import strftime, gmtime\n",
    "timestamp = strftime('%d-%H-%M-%S', gmtime())\n",
    "\n",
    "endpoint_name = 'XGBoost-demo-'+timestamp\n",
    "print(endpoint_name)\n",
    "\n",
    "xgb_estimator = xgb_estimator.deploy(endpoint_name=endpoint_name, \n",
    "                        initial_instance_count=1, \n",
    "                        instance_type='ml.t2.medium')\n",
    "\n",
    "# xgb_predictor.content_type = 'text/csv'\n",
    "xgb_estimator.serializer = sagemaker.serializers.CSVSerializer()\n",
    "xgb_estimator.deserializer = sagemaker.deserializers.CSVDeserializer()"
   ]
  },
  {
   "cell_type": "markdown",
   "metadata": {},
   "source": [
    "### Predict an appropriate sample"
   ]
  },
  {
   "cell_type": "code",
   "execution_count": 7,
   "metadata": {},
   "outputs": [
    {
     "name": "stdout",
     "output_type": "stream",
     "text": [
      "[['24.1808795929']]\n"
     ]
    }
   ],
   "source": [
    "test_sample = '0.00632,18.00,2.310,0,0.5380,6.5750,65.20,4.0900,1,296.0,15.30,4.98'\n",
    "response = xgb_estimator.predict(test_sample)\n",
    "\n",
    "print(response)"
   ]
  },
  {
   "cell_type": "code",
   "execution_count": 8,
   "metadata": {},
   "outputs": [
    {
     "name": "stdout",
     "output_type": "stream",
     "text": [
      "b'24.1808795929'\n"
     ]
    }
   ],
   "source": [
    "runtime = boto3.Session().client(service_name='runtime.sagemaker') \n",
    "\n",
    "response = runtime.invoke_endpoint(EndpointName=endpoint_name, \n",
    "                                  ContentType='text/csv', \n",
    "                                  Body=test_sample)\n",
    "\n",
    "print(response['Body'].read())"
   ]
  },
  {
   "cell_type": "code",
   "execution_count": 9,
   "metadata": {},
   "outputs": [
    {
     "name": "stdout",
     "output_type": "stream",
     "text": [
      "[['24.1808795929', '21.5899925232']]\n"
     ]
    }
   ],
   "source": [
    "test_samples = ['0.00632,18.00,2.310,0,0.5380,6.5750,65.20,4.0900,1,296.0,15.30,4.98',\n",
    "                '0.02731,0.00,7.070,0,0.4690,6.4210,78.90,4.9671,2,242.0,17.80,9.14']\n",
    "\n",
    "response = xgb_estimator.predict(test_samples)\n",
    "print(response)"
   ]
  },
  {
   "cell_type": "markdown",
   "metadata": {},
   "source": [
    "## Delete endpoint"
   ]
  },
  {
   "cell_type": "markdown",
   "metadata": {},
   "source": [
    "The cost will be incurred while the endpoint is running.\n",
    "It can be removed with the following code."
   ]
  },
  {
   "cell_type": "code",
   "execution_count": 10,
   "metadata": {},
   "outputs": [],
   "source": [
    "xgb_estimator.delete_endpoint()"
   ]
  },
  {
   "cell_type": "code",
   "execution_count": null,
   "metadata": {},
   "outputs": [],
   "source": []
  },
  {
   "cell_type": "code",
   "execution_count": null,
   "metadata": {},
   "outputs": [],
   "source": []
  },
  {
   "cell_type": "code",
   "execution_count": 11,
   "metadata": {},
   "outputs": [],
   "source": [
    "# End of File"
   ]
  }
 ],
 "metadata": {
  "instance_type": "ml.t3.medium",
  "kernelspec": {
   "display_name": "Python 3",
   "language": "python",
   "name": "python3"
  },
  "language_info": {
   "codemirror_mode": {
    "name": "ipython",
    "version": 3
   },
   "file_extension": ".py",
   "mimetype": "text/x-python",
   "name": "python",
   "nbconvert_exporter": "python",
   "pygments_lexer": "ipython3",
   "version": "3.7.3"
  },
  "toc": {
   "base_numbering": 1,
   "nav_menu": {},
   "number_sections": true,
   "sideBar": true,
   "skip_h1_title": true,
   "title_cell": "Table of Contents",
   "title_sidebar": "Contents",
   "toc_cell": true,
   "toc_position": {},
   "toc_section_display": true,
   "toc_window_display": false
  }
 },
 "nbformat": 4,
 "nbformat_minor": 4
}
