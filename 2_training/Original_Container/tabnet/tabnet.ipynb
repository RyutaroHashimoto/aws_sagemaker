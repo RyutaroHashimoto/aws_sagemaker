{
 "cells": [
  {
   "cell_type": "markdown",
   "metadata": {},
   "source": [
    "<br />\n",
    "\n",
    "<div style=\"text-align: center;\">\n",
    "<font size=\"7\">TabNet</font>\n",
    "<br /> \n",
    "<br /> \n",
    "\n",
    "    \n",
    "</div>\n",
    "<br />\n",
    "\n",
    "<div style=\"text-align: right;\">\n",
    "<font size=\"4\">2021/02/04</font>\n",
    "<br />\n",
    "<font size=\"4\">Ryutaro Hashimoto</font>\n",
    "</div>\n",
    "\n",
    "___"
   ]
  },
  {
   "cell_type": "markdown",
   "metadata": {},
   "source": [
    "# Summary\n",
    "Run Sagemaker using a container with your own model.\n",
    "Implement each file taking care of its format."
   ]
  },
  {
   "cell_type": "markdown",
   "metadata": {
    "toc": true
   },
   "source": [
    "<h1>Table of Contents<span class=\"tocSkip\"></span></h1>\n",
    "<div class=\"toc\"><ul class=\"toc-item\"><li><span><a href=\"#Preparation\" data-toc-modified-id=\"Preparation-1\"><span class=\"toc-item-num\">1&nbsp;&nbsp;</span>Preparation</a></span><ul class=\"toc-item\"><li><span><a href=\"#AWS-Configure-settings\" data-toc-modified-id=\"AWS-Configure-settings-1.1\"><span class=\"toc-item-num\">1.1&nbsp;&nbsp;</span>AWS Configure settings</a></span></li><li><span><a href=\"#Install-Docker-for-Mac\" data-toc-modified-id=\"Install-Docker-for-Mac-1.2\"><span class=\"toc-item-num\">1.2&nbsp;&nbsp;</span>Install Docker for Mac</a></span></li><li><span><a href=\"#Create-Container-Image\" data-toc-modified-id=\"Create-Container-Image-1.3\"><span class=\"toc-item-num\">1.3&nbsp;&nbsp;</span>Create Container Image</a></span><ul class=\"toc-item\"><li><span><a href=\"#train.py\" data-toc-modified-id=\"train.py-1.3.1\"><span class=\"toc-item-num\">1.3.1&nbsp;&nbsp;</span>train.py</a></span></li><li><span><a href=\"#predictor.py\" data-toc-modified-id=\"predictor.py-1.3.2\"><span class=\"toc-item-num\">1.3.2&nbsp;&nbsp;</span>predictor.py</a></span></li><li><span><a href=\"#model.py\" data-toc-modified-id=\"model.py-1.3.3\"><span class=\"toc-item-num\">1.3.3&nbsp;&nbsp;</span>model.py</a></span></li></ul></li><li><span><a href=\"#Push-the-created-image-to-ECR.\" data-toc-modified-id=\"Push-the-created-image-to-ECR.-1.4\"><span class=\"toc-item-num\">1.4&nbsp;&nbsp;</span>Push the created image to ECR.</a></span></li><li><span><a href=\"#wrapperfor-running-sagemaker\" data-toc-modified-id=\"wrapperfor-running-sagemaker-1.5\"><span class=\"toc-item-num\">1.5&nbsp;&nbsp;</span>wrapperfor running sagemaker</a></span></li></ul></li><li><span><a href=\"#Training\" data-toc-modified-id=\"Training-2\"><span class=\"toc-item-num\">2&nbsp;&nbsp;</span>Training</a></span><ul class=\"toc-item\"><li><span><a href=\"#Setting\" data-toc-modified-id=\"Setting-2.1\"><span class=\"toc-item-num\">2.1&nbsp;&nbsp;</span>Setting</a></span><ul class=\"toc-item\"><li><span><a href=\"#Setting-for-instance\" data-toc-modified-id=\"Setting-for-instance-2.1.1\"><span class=\"toc-item-num\">2.1.1&nbsp;&nbsp;</span>Setting for instance</a></span></li><li><span><a href=\"#settting-for-tag\" data-toc-modified-id=\"settting-for-tag-2.1.2\"><span class=\"toc-item-num\">2.1.2&nbsp;&nbsp;</span>settting for tag</a></span></li><li><span><a href=\"#Specify-the-input-file\" data-toc-modified-id=\"Specify-the-input-file-2.1.3\"><span class=\"toc-item-num\">2.1.3&nbsp;&nbsp;</span>Specify the input file</a></span></li><li><span><a href=\"#setting-for-metrics\" data-toc-modified-id=\"setting-for-metrics-2.1.4\"><span class=\"toc-item-num\">2.1.4&nbsp;&nbsp;</span>setting for metrics</a></span></li><li><span><a href=\"#setting-for-hyperparameters\" data-toc-modified-id=\"setting-for-hyperparameters-2.1.5\"><span class=\"toc-item-num\">2.1.5&nbsp;&nbsp;</span>setting for hyperparameters</a></span></li></ul></li><li><span><a href=\"#Execute\" data-toc-modified-id=\"Execute-2.2\"><span class=\"toc-item-num\">2.2&nbsp;&nbsp;</span>Execute</a></span></li></ul></li><li><span><a href=\"#Deploy\" data-toc-modified-id=\"Deploy-3\"><span class=\"toc-item-num\">3&nbsp;&nbsp;</span>Deploy</a></span></li><li><span><a href=\"#Prediction\" data-toc-modified-id=\"Prediction-4\"><span class=\"toc-item-num\">4&nbsp;&nbsp;</span>Prediction</a></span><ul class=\"toc-item\"><li><span><a href=\"#Prepare-sample-data\" data-toc-modified-id=\"Prepare-sample-data-4.1\"><span class=\"toc-item-num\">4.1&nbsp;&nbsp;</span>Prepare sample data</a></span></li><li><span><a href=\"#Prediction-in-CSV-format\" data-toc-modified-id=\"Prediction-in-CSV-format-4.2\"><span class=\"toc-item-num\">4.2&nbsp;&nbsp;</span>Prediction in CSV format</a></span></li><li><span><a href=\"#Prediction-in-JSON-format\" data-toc-modified-id=\"Prediction-in-JSON-format-4.3\"><span class=\"toc-item-num\">4.3&nbsp;&nbsp;</span>Prediction in JSON format</a></span></li></ul></li><li><span><a href=\"#Delete-the-endpoint\" data-toc-modified-id=\"Delete-the-endpoint-5\"><span class=\"toc-item-num\">5&nbsp;&nbsp;</span>Delete the endpoint</a></span></li></ul></div>"
   ]
  },
  {
   "cell_type": "markdown",
   "metadata": {},
   "source": [
    "## Preparation"
   ]
  },
  {
   "cell_type": "markdown",
   "metadata": {},
   "source": [
    "### AWS Configure settings\n",
    "\n",
    "Do this in advance. See __`0_AWS_access`__."
   ]
  },
  {
   "cell_type": "markdown",
   "metadata": {},
   "source": [
    "### Install Docker for Mac\n",
    "When using Local Mode, make /opt/ accessible by docker."
   ]
  },
  {
   "cell_type": "markdown",
   "metadata": {},
   "source": [
    "### Create Container Image"
   ]
  },
  {
   "cell_type": "markdown",
   "metadata": {},
   "source": [
    "Tree in the container\n",
    "\n",
    "    .\n",
    "    |-- Dockerfile\n",
    "    |-- build_and_push.sh\n",
    "    `-- decision_trees\n",
    "        |-- nginx.conf\n",
    "        |-- predictor.py\n",
    "        |-- serve\n",
    "        |-- train\n",
    "        `-- wsgi.py- wsgi.py\n",
    "\n",
    "* __`Dockerfile`__ Set up the environment in the container, install modules, mount directories, etc.\n",
    "* __`build_and_push.sh`__ Push the image to ECR\n",
    "* __`model`__ The directory where the model is stored.\n",
    "\n",
    "Model Contents\n",
    "\n",
    "* __`nginx.conf`__ the configuration file for the nginx front-end. \n",
    "* __`serve`__ Code launching the endpoint.\n",
    "* __`wsgi.py`__ Wrapper when launching the endpoint.　\n",
    "* __`train`__ Import the model from __model.py__, run the training, and save it. Needs to be edited.\n",
    "* __`predictor.py`__ Executed when the endpoint is started and called.Needs to be edited.\n",
    "* __`model.py`__ the details of the model, preprocessing, and other behaviors are described in a modular manner.　Needs to be edited, mainly."
   ]
  },
  {
   "cell_type": "markdown",
   "metadata": {},
   "source": [
    "#### train.py"
   ]
  },
  {
   "cell_type": "markdown",
   "metadata": {},
   "source": [
    "Change the model to import. The rest is basically the same"
   ]
  },
  {
   "cell_type": "markdown",
   "metadata": {},
   "source": [
    "The behavior is to execute the train function, save the model to the specified path after training, and return 0."
   ]
  },
  {
   "cell_type": "markdown",
   "metadata": {},
   "source": [
    "#### predictor.py"
   ]
  },
  {
   "cell_type": "markdown",
   "metadata": {},
   "source": [
    "Change the model to import. The rest is basically the same"
   ]
  },
  {
   "cell_type": "markdown",
   "metadata": {},
   "source": [
    "The behavior is as follows: After retrieving data with flask.Request, ScoringService.get_model retrieves the stored model. Then, after predicting with ScoringService.predict, the prediction result is sent with flask."
   ]
  },
  {
   "cell_type": "markdown",
   "metadata": {},
   "source": [
    "#### model.py"
   ]
  },
  {
   "cell_type": "markdown",
   "metadata": {},
   "source": [
    "The class for the model should be roughly as follows.\n",
    "```\n",
    "class Model:\n",
    "    def __init__(self, params=None):\n",
    "        Get hyperparameters\n",
    "\n",
    "    def fit(self, X):\n",
    "        Load and train data frames.\n",
    "        \n",
    "    def predict(self, X):\n",
    "        Read and predict data frames.\n",
    "\n",
    "    def save_model(self, file_path):\n",
    "        Save the model\n",
    "\n",
    "    def load_model(self, file_path):\n",
    "        Load the model.\n",
    "```"
   ]
  },
  {
   "cell_type": "markdown",
   "metadata": {},
   "source": [
    "### Push the created image to ECR."
   ]
  },
  {
   "cell_type": "markdown",
   "metadata": {},
   "source": [
    "In the /container, run\n",
    "\n",
    "\n",
    "```\n",
    "./build_and_push.sh <image_name>\n",
    "```\n",
    "\n",
    "in a terminal, then automatically upload the file to ECR."
   ]
  },
  {
   "cell_type": "markdown",
   "metadata": {},
   "source": [
    "### wrapperfor running sagemaker\n",
    "Wrapping sgemaker so that it automatically starts and runs like schikit-learn(__`wrapper_container.py`__)"
   ]
  },
  {
   "cell_type": "code",
   "execution_count": 1,
   "metadata": {},
   "outputs": [],
   "source": [
    "import sys\n",
    "sys.path.append('../')\n",
    "from util.wrapper_container import RunSageMaker"
   ]
  },
  {
   "cell_type": "code",
   "execution_count": 2,
   "metadata": {},
   "outputs": [
    {
     "data": {
      "text/plain": [
       "(['class RunSageMaker:\\n',\n",
       "  '    \"\"\"\\n',\n",
       "  '    インスタンスを立ち上げ学習を実行する。\\n',\n",
       "  '    学習結果を登録しているmetricsを含んだpandas DataFrameで返す。\\n',\n",
       "  '    \"\"\"\\n',\n",
       "  '\\n',\n",
       "  '    def __init__(self,\\n',\n",
       "  '                 image_uri,\\n',\n",
       "  '                 role,\\n',\n",
       "  '                 params,\\n',\n",
       "  '                 metric_definitions,\\n',\n",
       "  '                 tag_config,\\n',\n",
       "  '                 instance_config=None):\\n',\n",
       "  '        self.estimator = None\\n',\n",
       "  '        self.image_uri = image_uri\\n',\n",
       "  '        self.role = role\\n',\n",
       "  '        self.metric_definitions = metric_definitions\\n',\n",
       "  '        self.tag_config = tag_config\\n',\n",
       "  '\\n',\n",
       "  '        if params is None:\\n',\n",
       "  '            self.params = {}\\n',\n",
       "  '        else:\\n',\n",
       "  '            self.params = params\\n',\n",
       "  '        if instance_config is None:\\n',\n",
       "  '            self.instance_config = {}\\n',\n",
       "  '        else:\\n',\n",
       "  '            self.instance_config = instance_config\\n',\n",
       "  '\\n',\n",
       "  '    def fit(self, input, output_path, job_name=None, tag_config=None):\\n',\n",
       "  '        if job_name is None:\\n',\n",
       "  \"            self.job_name = 'sagemaker-' + str(datetime.datetime.now().strftime('%Y-%m-%d-%H-%M-%S'))\\n\",\n",
       "  '        else:\\n',\n",
       "  '            self.job_name = job_name\\n',\n",
       "  '\\n',\n",
       "  '        if tag_config is not None:\\n',\n",
       "  '            self.tag_config = {**self.tag_config, **tag_config}\\n',\n",
       "  '\\n',\n",
       "  \"        self.params['input'] = json.dumps(input)\\n\",\n",
       "  '\\n',\n",
       "  '        # initialize instance\\n',\n",
       "  '        self.estimator_params = {\\n',\n",
       "  \"            'image_uri': self.image_uri,\\n\",\n",
       "  \"            'role': self.role,\\n\",\n",
       "  \"            'output_path': output_path,\\n\",\n",
       "  \"            'enable_sagemaker_metrics': True,\\n\",\n",
       "  \"            'hyperparameters': self.params,\\n\",\n",
       "  \"            'tags': self.tag_config,\\n\",\n",
       "  \"            'metric_definitions': self.metric_definitions,\\n\",\n",
       "  '        }\\n',\n",
       "  '        self.estimator_params = {**self.estimator_params, **self.instance_config, }\\n',\n",
       "  '\\n',\n",
       "  '        self.estimator = sagemaker.estimator.Estimator(**self.estimator_params)\\n',\n",
       "  '\\n',\n",
       "  \"        self.estimator.fit(input['base_dir'], job_name=self.job_name)\\n\",\n",
       "  '\\n',\n",
       "  '    def deploy(self,\\n',\n",
       "  '               initial_instance_count=1,\\n',\n",
       "  \"               instance_type='local',\\n\",\n",
       "  '               endpoint_name=None,\\n',\n",
       "  '               serializers=sagemaker.serializers.CSVSerializer(),\\n',\n",
       "  '               deserializer=sagemaker.deserializers.CSVDeserializer()):\\n',\n",
       "  '        \"\"\"\\n',\n",
       "  '        推論用エンドポイントを作成する。\\n',\n",
       "  '        \"\"\"\\n',\n",
       "  '        self.predictor = self.estimator.deploy(initial_instance_count, instance_type, endpoint_name=endpoint_name)\\n',\n",
       "  '        self.predictor.serializer = serializers\\n',\n",
       "  '        self.predictor.deserializer = deserializer\\n',\n",
       "  '\\n',\n",
       "  '    def predict(self, x):\\n',\n",
       "  '        \"\"\"\\n',\n",
       "  '        推論用エンドポイントを使用して予測する。\\n',\n",
       "  '        \"\"\"\\n',\n",
       "  '        if type(self.predictor.serializer) == sagemaker.serializers.CSVSerializer:\\n',\n",
       "  '            if type(x) is pd.core.frame.DataFrame:\\n',\n",
       "  '                x = x.values\\n',\n",
       "  '            res = self.predictor.predict(x)\\n',\n",
       "  '            res = [float(s[0]) for s in res]\\n',\n",
       "  '        else:\\n',\n",
       "  '            res = self.predictor.predict(x)\\n',\n",
       "  '        return res\\n',\n",
       "  '\\n',\n",
       "  '    def delete_endpoint(self):\\n',\n",
       "  '        \"\"\"\\n',\n",
       "  '        エンドポイントを削除\\n',\n",
       "  '        \"\"\"\\n',\n",
       "  '        self.predictor.delete_endpoint()\\n'],\n",
       " 8)"
      ]
     },
     "execution_count": 2,
     "metadata": {},
     "output_type": "execute_result"
    }
   ],
   "source": [
    "import inspect\n",
    "inspect.getsourcelines(RunSageMaker) "
   ]
  },
  {
   "cell_type": "markdown",
   "metadata": {},
   "source": [
    "## Training"
   ]
  },
  {
   "cell_type": "code",
   "execution_count": 3,
   "metadata": {},
   "outputs": [],
   "source": [
    "import json\n",
    "import pandas as pd\n",
    "import sagemaker\n",
    "\n"
   ]
  },
  {
   "cell_type": "markdown",
   "metadata": {},
   "source": [
    "### Setting"
   ]
  },
  {
   "cell_type": "markdown",
   "metadata": {},
   "source": [
    "#### Setting for instance"
   ]
  },
  {
   "cell_type": "code",
   "execution_count": 4,
   "metadata": {},
   "outputs": [],
   "source": [
    "instance_config = {\n",
    "    'framework_version': '1.4.0',\n",
    "    'py_version': 'py3',\n",
    "    'instance_count': 1,\n",
    "    'instance_type': 'local',\n",
    "}"
   ]
  },
  {
   "cell_type": "markdown",
   "metadata": {},
   "source": [
    "#### settting for tag"
   ]
  },
  {
   "cell_type": "code",
   "execution_count": 5,
   "metadata": {},
   "outputs": [],
   "source": [
    "tag_config=[\n",
    "            {\"Key\": \"module\", \"Value\": \"Pytorch\"},\n",
    "            {\"Key\": \"model\", \"Value\": \"TabNet\"},\n",
    "            {\"Key\": \"container\", \"Value\": \"original\"}\n",
    "            ]"
   ]
  },
  {
   "cell_type": "markdown",
   "metadata": {},
   "source": [
    "#### Specify the input file"
   ]
  },
  {
   "cell_type": "code",
   "execution_count": 6,
   "metadata": {},
   "outputs": [],
   "source": [
    "input = {\n",
    "    'base_dir': 's3 path',\n",
    "    'train_data': '/train.csv',\n",
    "    'valid_data': '/valid.csv'\n",
    "}\n",
    "output_path = \"s3 path\""
   ]
  },
  {
   "cell_type": "markdown",
   "metadata": {},
   "source": [
    "#### setting for metrics"
   ]
  },
  {
   "cell_type": "code",
   "execution_count": 7,
   "metadata": {},
   "outputs": [],
   "source": [
    "metric_definitions=[\n",
    "                    {'Name': 'rmse', \n",
    "                    'Regex': 'rmse: ([-+]?[0-9\\\\.]+)'},\n",
    "                    {'Name': 'val_mse:', \n",
    "                    'Regex': 'val_0_mse: ([-+]?[0-9\\\\.]+)'}, \n",
    "                    {'Name': 'epoch:', \n",
    "                    'Regex': 'epoch ([-+]?[0-9\\\\.]+)'}, \n",
    "                    ]"
   ]
  },
  {
   "cell_type": "markdown",
   "metadata": {},
   "source": [
    "#### setting for hyperparameters"
   ]
  },
  {
   "cell_type": "code",
   "execution_count": 8,
   "metadata": {},
   "outputs": [],
   "source": [
    "params_pretrain = json.dumps(\n",
    "                    {\n",
    "                    'batch_size': 128,\n",
    "                    'virtual_batch_size': 128,\n",
    "                    'patience': 30,\n",
    "                    'max_epochs': 100,\n",
    "                    'optimizer_params': {'lr': 0.01, 'weight_decay': 1e-05},\n",
    "                    'n_steps': 1,\n",
    "                    }\n",
    "                )\n",
    "\n",
    "params = json.dumps(\n",
    "                    {\n",
    "                     'n_a':8,\n",
    "                     'n_d': 8,\n",
    "                     'scheduler_params': {'max_lr': 0.01, 'steps_per_epoch': 2, 'epochs': 500},\n",
    "                     'max_epochs':  50,\n",
    "                     'batch_size': 64,\n",
    "                     'virtual_batch_size': 64,\n",
    "                     'patience': 100,\n",
    "                    }\n",
    "                )\n",
    "\n",
    "categorical_columns = ['Open', 'Promo', 'SchoolHoliday', 'month', 'date']"
   ]
  },
  {
   "cell_type": "code",
   "execution_count": 9,
   "metadata": {},
   "outputs": [],
   "source": [
    "params = {\n",
    "    'params-pretrain': params_pretrain, \n",
    "    'params': params, \n",
    "    'target': 'Sales', \n",
    "    'categorical-columns': ' '.join(map(str, categorical_columns)), \n",
    "}"
   ]
  },
  {
   "cell_type": "markdown",
   "metadata": {},
   "source": [
    "### Execute"
   ]
  },
  {
   "cell_type": "code",
   "execution_count": 10,
   "metadata": {},
   "outputs": [],
   "source": [
    "estimator = RunSageMaker(\n",
    "              image_uri='005242542034.dkr.ecr.us-west-2.amazonaws.com/tabnet-regressor',\n",
    "              role='Role',\n",
    "              params = params,\n",
    "              metric_definitions=metric_definitions,\n",
    "              tag_config=tag_config,\n",
    "              instance_config=instance_config\n",
    "             )"
   ]
  },
  {
   "cell_type": "code",
   "execution_count": 11,
   "metadata": {},
   "outputs": [
    {
     "name": "stdout",
     "output_type": "stream",
     "text": [
      "Creating tmpg3b5y5t__algo-1-71k4e_1 ... \n",
      "\u001b[1BAttaching to tmpg3b5y5t__algo-1-71k4e_12mdone\u001b[0m\n",
      "\u001b[36malgo-1-71k4e_1  |\u001b[0m Starting the training.\n",
      "\u001b[36malgo-1-71k4e_1  |\u001b[0m {'params-pretrain': '{\"batch_size\": 128, \"virtual_batch_size\": 128, \"patience\": 30, \"max_epochs\": 100, \"optimizer_params\": {\"lr\": 0.01, \"weight_decay\": 1e-05}, \"n_steps\": 1}', 'params': '{\"n_a\": 8, \"n_d\": 8, \"scheduler_params\": {\"max_lr\": 0.01, \"steps_per_epoch\": 2, \"epochs\": 500}, \"max_epochs\": 50, \"batch_size\": 64, \"virtual_batch_size\": 64, \"patience\": 100}', 'target': 'Sales', 'categorical-columns': 'Open Promo SchoolHoliday month date', 'input': '{\"base_dir\": \"s3://poctesthashimoto/data/rossmann/\", \"train_data\": \"/train.csv\", \"valid_data\": \"/valid.csv\"}'}\n",
      "\u001b[36malgo-1-71k4e_1  |\u001b[0m /usr/local/lib/python3.8/site-packages/torch/cuda/__init__.py:52: UserWarning: CUDA initialization: Found no NVIDIA driver on your system. Please check that you have an NVIDIA GPU and installed a driver from http://www.nvidia.com/Download/index.aspx (Triggered internally at  /pytorch/c10/cuda/CUDAFunctions.cpp:100.)\n",
      "\u001b[36malgo-1-71k4e_1  |\u001b[0m   return torch._C._cuda_getDeviceCount() > 0\n",
      "\u001b[36malgo-1-71k4e_1  |\u001b[0m Device used : cpu\n",
      "\u001b[36malgo-1-71k4e_1  |\u001b[0m epoch 0  | loss: 11946309976064.0| val_0_unsup_loss: 11636386562048.0|  0:00:00s\n",
      "\u001b[36malgo-1-71k4e_1  |\u001b[0m epoch 10 | loss: 11324421221034.666| val_0_unsup_loss: 11655729643520.0|  0:00:03s\n",
      "\u001b[36malgo-1-71k4e_1  |\u001b[0m epoch 20 | loss: 12193008975872.0| val_0_unsup_loss: 11666020368384.0|  0:00:07s\n",
      "\u001b[36malgo-1-71k4e_1  |\u001b[0m epoch 30 | loss: 11848717959168.0| val_0_unsup_loss: 11657460842496.0|  0:00:11s\n",
      "\u001b[36malgo-1-71k4e_1  |\u001b[0m \n",
      "\u001b[36malgo-1-71k4e_1  |\u001b[0m Early stopping occurred at epoch 33 with best_epoch = 3 and best_val_0_unsup_loss = 11619437379584.0\n",
      "\u001b[36malgo-1-71k4e_1  |\u001b[0m Best weights from best epoch are automatically used!\n",
      "\u001b[36malgo-1-71k4e_1  |\u001b[0m Device used : cpu\n",
      "\u001b[36malgo-1-71k4e_1  |\u001b[0m /usr/local/lib/python3.8/site-packages/pytorch_tabnet/abstract_model.py:97: UserWarning: Pretraining: cat_dims changed from [2, 2, 2, 12, 31] to []\n",
      "\u001b[36malgo-1-71k4e_1  |\u001b[0m   warnings.warn(wrn_msg)\n",
      "\u001b[36malgo-1-71k4e_1  |\u001b[0m /usr/local/lib/python3.8/site-packages/pytorch_tabnet/abstract_model.py:97: UserWarning: Pretraining: cat_idxs changed from [3, 4, 5, 27, 28] to []\n",
      "\u001b[36malgo-1-71k4e_1  |\u001b[0m   warnings.warn(wrn_msg)\n",
      "\u001b[36malgo-1-71k4e_1  |\u001b[0m Loading weights from unsupervised pretraining\n",
      "\u001b[36malgo-1-71k4e_1  |\u001b[0m epoch 0  | loss: 22510094.71083| val_0_mse: 22923444.42958|  0:00:00s\n",
      "\u001b[36malgo-1-71k4e_1  |\u001b[0m epoch 10 | loss: 22504280.32866| val_0_mse: 22879218.72081|  0:00:04s\n",
      "\u001b[36malgo-1-71k4e_1  |\u001b[0m epoch 20 | loss: 22498292.78726| val_0_mse: 22893544.56356|  0:00:08s\n",
      "\u001b[36malgo-1-71k4e_1  |\u001b[0m epoch 30 | loss: 22488370.46115| val_0_mse: 22902648.69847|  0:00:13s\n",
      "\u001b[36malgo-1-71k4e_1  |\u001b[0m epoch 40 | loss: 22474209.23567| val_0_mse: 22900823.17722|  0:00:17s\n",
      "\u001b[36malgo-1-71k4e_1  |\u001b[0m Stop training because you reached max_epochs = 50 with best_epoch = 10 and best_val_0_mse = 22879218.72081\n",
      "\u001b[36malgo-1-71k4e_1  |\u001b[0m Best weights from best epoch are automatically used!\n",
      "\u001b[36malgo-1-71k4e_1  |\u001b[0m rmse: 4783.222629232892\n",
      "\u001b[36malgo-1-71k4e_1  |\u001b[0m Saving the model.\n",
      "\u001b[36malgo-1-71k4e_1  |\u001b[0m Training complete.\n",
      "\u001b[36mtmpg3b5y5t__algo-1-71k4e_1 exited with code 0\n",
      "\u001b[0mAborting on container exit...\n",
      "===== Job Complete =====\n"
     ]
    }
   ],
   "source": [
    "import datetime\n",
    "jobname = 'tabnet-sagemaker-' + str(datetime.datetime.now().strftime('%Y-%m-%d-%H-%M-%S'))\n",
    "estimator.fit(input=input, output_path=output_path, job_name=jobname)"
   ]
  },
  {
   "cell_type": "markdown",
   "metadata": {},
   "source": [
    "## Deploy"
   ]
  },
  {
   "cell_type": "code",
   "execution_count": 12,
   "metadata": {},
   "outputs": [
    {
     "name": "stdout",
     "output_type": "stream",
     "text": [
      "Attaching to tmp1t9w5g74_algo-1-f7lmx_1\n",
      "\u001b[36malgo-1-f7lmx_1  |\u001b[0m Starting the inference server with 4 workers.\n",
      "\u001b[36malgo-1-f7lmx_1  |\u001b[0m [2021-02-08 00:52:13 +0000] [10] [INFO] Starting gunicorn 20.0.4\n",
      "\u001b[36malgo-1-f7lmx_1  |\u001b[0m [2021-02-08 00:52:13 +0000] [10] [INFO] Listening at: unix:/tmp/gunicorn.sock (10)\n",
      "\u001b[36malgo-1-f7lmx_1  |\u001b[0m [2021-02-08 00:52:13 +0000] [10] [INFO] Using worker: gevent\n",
      "\u001b[36malgo-1-f7lmx_1  |\u001b[0m [2021-02-08 00:52:13 +0000] [13] [INFO] Booting worker with pid: 13\n",
      "\u001b[36malgo-1-f7lmx_1  |\u001b[0m [2021-02-08 00:52:13 +0000] [14] [INFO] Booting worker with pid: 14\n",
      "\u001b[36malgo-1-f7lmx_1  |\u001b[0m [2021-02-08 00:52:13 +0000] [15] [INFO] Booting worker with pid: 15\n",
      "\u001b[36malgo-1-f7lmx_1  |\u001b[0m [2021-02-08 00:52:14 +0000] [16] [INFO] Booting worker with pid: 16\n",
      "\u001b[36malgo-1-f7lmx_1  |\u001b[0m /usr/local/lib/python3.8/site-packages/torch/cuda/__init__.py:52: UserWarning: CUDA initialization: Found no NVIDIA driver on your system. Please check that you have an NVIDIA GPU and installed a driver from http://www.nvidia.com/Download/index.aspx (Triggered internally at  /pytorch/c10/cuda/CUDAFunctions.cpp:100.)\n",
      "\u001b[36malgo-1-f7lmx_1  |\u001b[0m   return torch._C._cuda_getDeviceCount() > 0\n",
      "\u001b[36malgo-1-f7lmx_1  |\u001b[0m Device used : cpu\n",
      "!\u001b[36malgo-1-f7lmx_1  |\u001b[0m 172.28.0.1 - - [08/Feb/2021:00:52:17 +0000] \"GET /ping HTTP/1.1\" 200 1 \"-\" \"-\"\n"
     ]
    }
   ],
   "source": [
    "# estimator.deploy(instance_type='ml.m4.xlarge')\n",
    "estimator.deploy(instance_type='local')"
   ]
  },
  {
   "cell_type": "markdown",
   "metadata": {},
   "source": [
    "## Prediction"
   ]
  },
  {
   "cell_type": "markdown",
   "metadata": {},
   "source": [
    "Both CSV and JSON are supported.\n",
    "CSV is input in pandas.DataFrame as in table_data_processing, and a list of predicted values is output."
   ]
  },
  {
   "cell_type": "markdown",
   "metadata": {},
   "source": [
    "### Prepare sample data"
   ]
  },
  {
   "cell_type": "code",
   "execution_count": 13,
   "metadata": {},
   "outputs": [
    {
     "data": {
      "text/html": [
       "<div>\n",
       "<style scoped>\n",
       "    .dataframe tbody tr th:only-of-type {\n",
       "        vertical-align: middle;\n",
       "    }\n",
       "\n",
       "    .dataframe tbody tr th {\n",
       "        vertical-align: top;\n",
       "    }\n",
       "\n",
       "    .dataframe thead th {\n",
       "        text-align: right;\n",
       "    }\n",
       "</style>\n",
       "<table border=\"1\" class=\"dataframe\">\n",
       "  <thead>\n",
       "    <tr style=\"text-align: right;\">\n",
       "      <th></th>\n",
       "      <th>DayOfWeek</th>\n",
       "      <th>Customers</th>\n",
       "      <th>Open</th>\n",
       "      <th>Promo</th>\n",
       "      <th>SchoolHoliday</th>\n",
       "      <th>CompetitionDistance</th>\n",
       "      <th>CompetitionOpenSinceMonth</th>\n",
       "      <th>CompetitionOpenSinceYear</th>\n",
       "      <th>Promo2</th>\n",
       "      <th>Promo2SinceWeek</th>\n",
       "      <th>...</th>\n",
       "      <th>StoreType_nan</th>\n",
       "      <th>Assortment_b</th>\n",
       "      <th>Assortment_c</th>\n",
       "      <th>Assortment_nan</th>\n",
       "      <th>PromoInterval_Jan,Apr,Jul,Oct</th>\n",
       "      <th>PromoInterval_Mar,Jun,Sept,Dec</th>\n",
       "      <th>PromoInterval_nan</th>\n",
       "      <th>year</th>\n",
       "      <th>month</th>\n",
       "      <th>date</th>\n",
       "    </tr>\n",
       "  </thead>\n",
       "  <tbody>\n",
       "    <tr>\n",
       "      <th>156</th>\n",
       "      <td>3</td>\n",
       "      <td>653</td>\n",
       "      <td>1</td>\n",
       "      <td>0</td>\n",
       "      <td>0</td>\n",
       "      <td>570</td>\n",
       "      <td>11</td>\n",
       "      <td>8</td>\n",
       "      <td>1</td>\n",
       "      <td>13</td>\n",
       "      <td>...</td>\n",
       "      <td>0</td>\n",
       "      <td>0</td>\n",
       "      <td>0</td>\n",
       "      <td>0</td>\n",
       "      <td>1</td>\n",
       "      <td>0</td>\n",
       "      <td>0</td>\n",
       "      <td>2015</td>\n",
       "      <td>2</td>\n",
       "      <td>24</td>\n",
       "    </tr>\n",
       "    <tr>\n",
       "      <th>155</th>\n",
       "      <td>4</td>\n",
       "      <td>509</td>\n",
       "      <td>1</td>\n",
       "      <td>0</td>\n",
       "      <td>0</td>\n",
       "      <td>570</td>\n",
       "      <td>11</td>\n",
       "      <td>8</td>\n",
       "      <td>1</td>\n",
       "      <td>13</td>\n",
       "      <td>...</td>\n",
       "      <td>0</td>\n",
       "      <td>0</td>\n",
       "      <td>0</td>\n",
       "      <td>0</td>\n",
       "      <td>1</td>\n",
       "      <td>0</td>\n",
       "      <td>0</td>\n",
       "      <td>2015</td>\n",
       "      <td>2</td>\n",
       "      <td>25</td>\n",
       "    </tr>\n",
       "    <tr>\n",
       "      <th>154</th>\n",
       "      <td>5</td>\n",
       "      <td>517</td>\n",
       "      <td>1</td>\n",
       "      <td>0</td>\n",
       "      <td>0</td>\n",
       "      <td>570</td>\n",
       "      <td>11</td>\n",
       "      <td>8</td>\n",
       "      <td>1</td>\n",
       "      <td>13</td>\n",
       "      <td>...</td>\n",
       "      <td>0</td>\n",
       "      <td>0</td>\n",
       "      <td>0</td>\n",
       "      <td>0</td>\n",
       "      <td>1</td>\n",
       "      <td>0</td>\n",
       "      <td>0</td>\n",
       "      <td>2015</td>\n",
       "      <td>2</td>\n",
       "      <td>26</td>\n",
       "    </tr>\n",
       "    <tr>\n",
       "      <th>153</th>\n",
       "      <td>6</td>\n",
       "      <td>378</td>\n",
       "      <td>1</td>\n",
       "      <td>0</td>\n",
       "      <td>0</td>\n",
       "      <td>570</td>\n",
       "      <td>11</td>\n",
       "      <td>8</td>\n",
       "      <td>1</td>\n",
       "      <td>13</td>\n",
       "      <td>...</td>\n",
       "      <td>0</td>\n",
       "      <td>0</td>\n",
       "      <td>0</td>\n",
       "      <td>0</td>\n",
       "      <td>1</td>\n",
       "      <td>0</td>\n",
       "      <td>0</td>\n",
       "      <td>2015</td>\n",
       "      <td>2</td>\n",
       "      <td>27</td>\n",
       "    </tr>\n",
       "    <tr>\n",
       "      <th>152</th>\n",
       "      <td>7</td>\n",
       "      <td>0</td>\n",
       "      <td>0</td>\n",
       "      <td>0</td>\n",
       "      <td>0</td>\n",
       "      <td>570</td>\n",
       "      <td>11</td>\n",
       "      <td>8</td>\n",
       "      <td>1</td>\n",
       "      <td>13</td>\n",
       "      <td>...</td>\n",
       "      <td>0</td>\n",
       "      <td>0</td>\n",
       "      <td>0</td>\n",
       "      <td>0</td>\n",
       "      <td>1</td>\n",
       "      <td>0</td>\n",
       "      <td>0</td>\n",
       "      <td>2015</td>\n",
       "      <td>3</td>\n",
       "      <td>0</td>\n",
       "    </tr>\n",
       "  </tbody>\n",
       "</table>\n",
       "<p>5 rows × 28 columns</p>\n",
       "</div>"
      ],
      "text/plain": [
       "     DayOfWeek  Customers  Open  Promo  SchoolHoliday  CompetitionDistance  \\\n",
       "156          3        653     1      0              0                  570   \n",
       "155          4        509     1      0              0                  570   \n",
       "154          5        517     1      0              0                  570   \n",
       "153          6        378     1      0              0                  570   \n",
       "152          7          0     0      0              0                  570   \n",
       "\n",
       "     CompetitionOpenSinceMonth  CompetitionOpenSinceYear  Promo2  \\\n",
       "156                         11                         8       1   \n",
       "155                         11                         8       1   \n",
       "154                         11                         8       1   \n",
       "153                         11                         8       1   \n",
       "152                         11                         8       1   \n",
       "\n",
       "     Promo2SinceWeek  ...  StoreType_nan  Assortment_b  Assortment_c  \\\n",
       "156               13  ...              0             0             0   \n",
       "155               13  ...              0             0             0   \n",
       "154               13  ...              0             0             0   \n",
       "153               13  ...              0             0             0   \n",
       "152               13  ...              0             0             0   \n",
       "\n",
       "     Assortment_nan  PromoInterval_Jan,Apr,Jul,Oct  \\\n",
       "156               0                              1   \n",
       "155               0                              1   \n",
       "154               0                              1   \n",
       "153               0                              1   \n",
       "152               0                              1   \n",
       "\n",
       "     PromoInterval_Mar,Jun,Sept,Dec  PromoInterval_nan  year  month  date  \n",
       "156                               0                  0  2015      2    24  \n",
       "155                               0                  0  2015      2    25  \n",
       "154                               0                  0  2015      2    26  \n",
       "153                               0                  0  2015      2    27  \n",
       "152                               0                  0  2015      3     0  \n",
       "\n",
       "[5 rows x 28 columns]"
      ]
     },
     "execution_count": 13,
     "metadata": {},
     "output_type": "execute_result"
    }
   ],
   "source": [
    "# read csv\n",
    "test=pd.read_csv(\"data/test.csv\", index_col=0)\n",
    "# drop the label column in the training set\n",
    "test.drop(test.columns[[1]],axis=1,inplace=True)\n",
    "test.head()"
   ]
  },
  {
   "cell_type": "markdown",
   "metadata": {},
   "source": [
    "### Prediction in CSV format"
   ]
  },
  {
   "cell_type": "code",
   "execution_count": 14,
   "metadata": {},
   "outputs": [
    {
     "name": "stdout",
     "output_type": "stream",
     "text": [
      "\u001b[36malgo-1-f7lmx_1  |\u001b[0m Invoked with 157 records\r\n",
      "\u001b[36malgo-1-f7lmx_1  |\u001b[0m 172.28.0.1 - - [08/Feb/2021:00:52:17 +0000] \"POST /invocations HTTP/1.1\" 200 1503 \"-\" \"-\"\r\n"
     ]
    }
   ],
   "source": [
    "res = estimator.predict(test)"
   ]
  },
  {
   "cell_type": "code",
   "execution_count": 15,
   "metadata": {},
   "outputs": [
    {
     "data": {
      "text/plain": [
       "[8.406941,\n",
       " 8.628193,\n",
       " 8.58601,\n",
       " 8.628108,\n",
       " 4.3018703,\n",
       " 7.833139,\n",
       " 8.228649,\n",
       " 7.9546666,\n",
       " 8.068433,\n",
       " 7.979149,\n",
       " 7.376253,\n",
       " 5.463338,\n",
       " 2.511085,\n",
       " 5.541976,\n",
       " 7.405779,\n",
       " 7.9194565,\n",
       " 7.9253063,\n",
       " 8.054446,\n",
       " 6.9166365,\n",
       " 7.111681,\n",
       " 8.730817,\n",
       " 8.564101,\n",
       " 8.625599,\n",
       " 8.620312,\n",
       " 8.459248,\n",
       " 8.263453,\n",
       " 2.9758162,\n",
       " 5.640297,\n",
       " 8.083109,\n",
       " 8.48851,\n",
       " 8.628193,\n",
       " 8.628193,\n",
       " 8.628193,\n",
       " 2.5356114,\n",
       " 5.766569,\n",
       " 6.163084,\n",
       " 6.930984,\n",
       " 0.5181865,\n",
       " 5.99502,\n",
       " 4.276666,\n",
       " 0.077486955,\n",
       " 0.084979534,\n",
       " 2.3834672,\n",
       " 3.2849617,\n",
       " 4.803648,\n",
       " 7.7641993,\n",
       " 5.7661,\n",
       " 4.8382845,\n",
       " 8.523142,\n",
       " 8.318998,\n",
       " 8.59733,\n",
       " 8.530217,\n",
       " 8.316623,\n",
       " 7.5074058,\n",
       " 1.520764,\n",
       " 3.9589303,\n",
       " 7.729063,\n",
       " 8.297945,\n",
       " 8.583028,\n",
       " 8.448399,\n",
       " 8.606077,\n",
       " 3.4732022,\n",
       " 7.849145,\n",
       " 8.628193,\n",
       " 8.628193,\n",
       " 8.400873,\n",
       " 5.8168726,\n",
       " 3.241353,\n",
       " 4.3632483,\n",
       " 7.624977,\n",
       " 7.851515,\n",
       " 8.064615,\n",
       " 7.1305585,\n",
       " 7.181634,\n",
       " 4.662574,\n",
       " 0.19406417,\n",
       " 2.4814773,\n",
       " 6.620899,\n",
       " 4.2077594,\n",
       " 4.1782303,\n",
       " 8.062523,\n",
       " 6.5782123,\n",
       " 3.8799593,\n",
       " 5.6154814,\n",
       " 8.519918,\n",
       " 8.628107,\n",
       " 8.628193,\n",
       " 8.59973,\n",
       " 8.313496,\n",
       " 0.8159954,\n",
       " 3.5361772,\n",
       " 6.7719035,\n",
       " 7.2335963,\n",
       " 8.205788,\n",
       " 8.5027275,\n",
       " 8.628193,\n",
       " 3.4135504,\n",
       " 6.506237,\n",
       " 7.333187,\n",
       " 7.3590336,\n",
       " 7.212405,\n",
       " 6.423506,\n",
       " 3.321536,\n",
       " -0.08816561,\n",
       " 1.0762218,\n",
       " 4.721319,\n",
       " 6.366759,\n",
       " 7.231412,\n",
       " 7.5652227,\n",
       " 5.103319,\n",
       " 2.9442616,\n",
       " 4.579916,\n",
       " 8.202026,\n",
       " 8.576026,\n",
       " 8.538614,\n",
       " 8.397138,\n",
       " 7.4065113,\n",
       " 0.43265325,\n",
       " 2.2217898,\n",
       " 5.9309998,\n",
       " 6.6850224,\n",
       " 7.859458,\n",
       " 8.322077,\n",
       " 8.618755,\n",
       " 2.932317,\n",
       " 7.5064964,\n",
       " 6.4633875,\n",
       " 5.623814,\n",
       " 4.4601808,\n",
       " 0.89266825,\n",
       " 2.3087776,\n",
       " 0.0029360503,\n",
       " 0.185318,\n",
       " 2.9272695,\n",
       " 4.3713884,\n",
       " 6.365737,\n",
       " 6.9398127,\n",
       " 3.8954213,\n",
       " -0.25303614,\n",
       " -0.034096956,\n",
       " 4.156059,\n",
       " 1.5536311,\n",
       " 3.8009577,\n",
       " 7.936926,\n",
       " 6.3113527,\n",
       " -0.06687358,\n",
       " -0.19216883,\n",
       " 0.21598408,\n",
       " 0.50288445,\n",
       " 2.8798993,\n",
       " 7.917205,\n",
       " 8.142342,\n",
       " -0.32236564,\n",
       " -0.0054032207,\n",
       " 5.1527996,\n",
       " 5.0545444,\n",
       " 7.8157988]"
      ]
     },
     "execution_count": 15,
     "metadata": {},
     "output_type": "execute_result"
    }
   ],
   "source": [
    "res"
   ]
  },
  {
   "cell_type": "code",
   "execution_count": 16,
   "metadata": {},
   "outputs": [
    {
     "name": "stdout",
     "output_type": "stream",
     "text": [
      "Gracefully stopping... (press Ctrl+C again to force)\n"
     ]
    }
   ],
   "source": [
    "estimator.delete_endpoint()"
   ]
  },
  {
   "cell_type": "markdown",
   "metadata": {},
   "source": [
    "### Prediction in JSON format"
   ]
  },
  {
   "cell_type": "code",
   "execution_count": 17,
   "metadata": {},
   "outputs": [
    {
     "name": "stdout",
     "output_type": "stream",
     "text": [
      "Attaching to tmpwzp6nbew_algo-1-iswbj_1\n",
      "\u001b[36malgo-1-iswbj_1  |\u001b[0m Starting the inference server with 4 workers.\n",
      "\u001b[36malgo-1-iswbj_1  |\u001b[0m [2021-02-08 00:52:22 +0000] [10] [INFO] Starting gunicorn 20.0.4\n",
      "\u001b[36malgo-1-iswbj_1  |\u001b[0m [2021-02-08 00:52:22 +0000] [10] [INFO] Listening at: unix:/tmp/gunicorn.sock (10)\n",
      "\u001b[36malgo-1-iswbj_1  |\u001b[0m [2021-02-08 00:52:22 +0000] [10] [INFO] Using worker: gevent\n",
      "\u001b[36malgo-1-iswbj_1  |\u001b[0m [2021-02-08 00:52:22 +0000] [13] [INFO] Booting worker with pid: 13\n",
      "\u001b[36malgo-1-iswbj_1  |\u001b[0m [2021-02-08 00:52:22 +0000] [14] [INFO] Booting worker with pid: 14\n",
      "\u001b[36malgo-1-iswbj_1  |\u001b[0m [2021-02-08 00:52:22 +0000] [15] [INFO] Booting worker with pid: 15\n",
      "\u001b[36malgo-1-iswbj_1  |\u001b[0m [2021-02-08 00:52:22 +0000] [16] [INFO] Booting worker with pid: 16\n",
      "\u001b[36malgo-1-iswbj_1  |\u001b[0m /usr/local/lib/python3.8/site-packages/torch/cuda/__init__.py:52: UserWarning: CUDA initialization: Found no NVIDIA driver on your system. Please check that you have an NVIDIA GPU and installed a driver from http://www.nvidia.com/Download/index.aspx (Triggered internally at  /pytorch/c10/cuda/CUDAFunctions.cpp:100.)\n",
      "\u001b[36malgo-1-iswbj_1  |\u001b[0m   return torch._C._cuda_getDeviceCount() > 0\n",
      "\u001b[36malgo-1-iswbj_1  |\u001b[0m Device used : cpu\n",
      "!"
     ]
    }
   ],
   "source": [
    "estimator.deploy(instance_type='ml.p2.xlarge', \n",
    "                 serializers=sagemaker.serializers.JSONSerializer(), \n",
    "                 deserializer=sagemaker.deserializers.JSONDeserializer())"
   ]
  },
  {
   "cell_type": "code",
   "execution_count": 18,
   "metadata": {},
   "outputs": [
    {
     "name": "stdout",
     "output_type": "stream",
     "text": [
      "\u001b[36malgo-1-iswbj_1  |\u001b[0m 172.28.0.1 - - [08/Feb/2021:00:52:25 +0000] \"GET /ping HTTP/1.1\" 200 1 \"-\" \"-\"\n",
      "\u001b[36malgo-1-iswbj_1  |\u001b[0m Invoked with 157 records\n",
      "\u001b[36malgo-1-iswbj_1  |\u001b[0m 172.28.0.1 - - [08/Feb/2021:00:52:25 +0000] \"POST /invocations HTTP/1.1\" 200 3351 \"-\" \"-\"\n"
     ]
    }
   ],
   "source": [
    "res = estimator.predict(test.to_json(orient='split'))"
   ]
  },
  {
   "cell_type": "code",
   "execution_count": 19,
   "metadata": {},
   "outputs": [
    {
     "data": {
      "text/plain": [
       "{'predictions': [[8.406941413879395],\n",
       "  [8.628192901611328],\n",
       "  [8.586009979248047],\n",
       "  [8.628108024597168],\n",
       "  [4.301870346069336],\n",
       "  [7.833138942718506],\n",
       "  [8.228649139404297],\n",
       "  [7.954666614532471],\n",
       "  [8.068432807922363],\n",
       "  [7.979148864746094],\n",
       "  [7.376253128051758],\n",
       "  [5.4633378982543945],\n",
       "  [2.511085033416748],\n",
       "  [5.541975975036621],\n",
       "  [7.405778884887695],\n",
       "  [7.919456481933594],\n",
       "  [7.92530632019043],\n",
       "  [8.05444622039795],\n",
       "  [6.9166364669799805],\n",
       "  [7.11168098449707],\n",
       "  [8.730816841125488],\n",
       "  [8.564101219177246],\n",
       "  [8.625598907470703],\n",
       "  [8.620311737060547],\n",
       "  [8.459247589111328],\n",
       "  [8.263452529907227],\n",
       "  [2.975816249847412],\n",
       "  [5.640296936035156],\n",
       "  [8.083108901977539],\n",
       "  [8.488510131835938],\n",
       "  [8.628192901611328],\n",
       "  [8.628192901611328],\n",
       "  [8.628192901611328],\n",
       "  [2.535611391067505],\n",
       "  [5.766569137573242],\n",
       "  [6.163084030151367],\n",
       "  [6.930984020233154],\n",
       "  [0.5181865096092224],\n",
       "  [5.995019912719727],\n",
       "  [4.276666164398193],\n",
       "  [0.07748695462942123],\n",
       "  [0.08497953414916992],\n",
       "  [2.383467197418213],\n",
       "  [3.284961700439453],\n",
       "  [4.803647994995117],\n",
       "  [7.764199256896973],\n",
       "  [5.76609992980957],\n",
       "  [4.838284492492676],\n",
       "  [8.523141860961914],\n",
       "  [8.318998336791992],\n",
       "  [8.597330093383789],\n",
       "  [8.530217170715332],\n",
       "  [8.316622734069824],\n",
       "  [7.507405757904053],\n",
       "  [1.5207639932632446],\n",
       "  [3.958930253982544],\n",
       "  [7.729063034057617],\n",
       "  [8.297945022583008],\n",
       "  [8.583027839660645],\n",
       "  [8.44839859008789],\n",
       "  [8.606077194213867],\n",
       "  [3.4732022285461426],\n",
       "  [7.84914493560791],\n",
       "  [8.628192901611328],\n",
       "  [8.628192901611328],\n",
       "  [8.400873184204102],\n",
       "  [5.816872596740723],\n",
       "  [3.2413530349731445],\n",
       "  [4.363248348236084],\n",
       "  [7.624977111816406],\n",
       "  [7.85151481628418],\n",
       "  [8.064615249633789],\n",
       "  [7.130558490753174],\n",
       "  [7.181633949279785],\n",
       "  [4.66257381439209],\n",
       "  [0.1940641701221466],\n",
       "  [2.4814772605895996],\n",
       "  [6.620899200439453],\n",
       "  [4.207759380340576],\n",
       "  [4.178230285644531],\n",
       "  [8.062522888183594],\n",
       "  [6.578212261199951],\n",
       "  [3.8799593448638916],\n",
       "  [5.615481376647949],\n",
       "  [8.519918441772461],\n",
       "  [8.628107070922852],\n",
       "  [8.628192901611328],\n",
       "  [8.599729537963867],\n",
       "  [8.313495635986328],\n",
       "  [0.8159953951835632],\n",
       "  [3.536177158355713],\n",
       "  [6.7719035148620605],\n",
       "  [7.233596324920654],\n",
       "  [8.205787658691406],\n",
       "  [8.502727508544922],\n",
       "  [8.628192901611328],\n",
       "  [3.41355037689209],\n",
       "  [6.506237030029297],\n",
       "  [7.333187103271484],\n",
       "  [7.359033584594727],\n",
       "  [7.212405204772949],\n",
       "  [6.423505783081055],\n",
       "  [3.321536064147949],\n",
       "  [-0.08816561102867126],\n",
       "  [1.0762218236923218],\n",
       "  [4.721319198608398],\n",
       "  [6.366758823394775],\n",
       "  [7.231411933898926],\n",
       "  [7.56522274017334],\n",
       "  [5.10331916809082],\n",
       "  [2.9442615509033203],\n",
       "  [4.579916000366211],\n",
       "  [8.2020263671875],\n",
       "  [8.57602596282959],\n",
       "  [8.538614273071289],\n",
       "  [8.397137641906738],\n",
       "  [7.406511306762695],\n",
       "  [0.4326532483100891],\n",
       "  [2.221789836883545],\n",
       "  [5.930999755859375],\n",
       "  [6.685022354125977],\n",
       "  [7.859457969665527],\n",
       "  [8.322076797485352],\n",
       "  [8.618755340576172],\n",
       "  [2.932317018508911],\n",
       "  [7.506496429443359],\n",
       "  [6.463387489318848],\n",
       "  [5.623814105987549],\n",
       "  [4.460180759429932],\n",
       "  [0.8926682472229004],\n",
       "  [2.3087775707244873],\n",
       "  [0.002936050295829773],\n",
       "  [0.1853179931640625],\n",
       "  [2.927269458770752],\n",
       "  [4.3713884353637695],\n",
       "  [6.365736961364746],\n",
       "  [6.939812660217285],\n",
       "  [3.895421266555786],\n",
       "  [-0.25303614139556885],\n",
       "  [-0.03409695625305176],\n",
       "  [4.1560587882995605],\n",
       "  [1.553631067276001],\n",
       "  [3.800957679748535],\n",
       "  [7.936925888061523],\n",
       "  [6.311352729797363],\n",
       "  [-0.06687358021736145],\n",
       "  [-0.19216883182525635],\n",
       "  [0.21598407626152039],\n",
       "  [0.5028844475746155],\n",
       "  [2.879899263381958],\n",
       "  [7.917204856872559],\n",
       "  [8.142341613769531],\n",
       "  [-0.3223656415939331],\n",
       "  [-0.0054032206535339355],\n",
       "  [5.152799606323242],\n",
       "  [5.054544448852539],\n",
       "  [7.815798759460449]]}"
      ]
     },
     "execution_count": 19,
     "metadata": {},
     "output_type": "execute_result"
    }
   ],
   "source": [
    "res"
   ]
  },
  {
   "cell_type": "markdown",
   "metadata": {},
   "source": [
    "## Delete the endpoint\n",
    "Remember to delete them."
   ]
  },
  {
   "cell_type": "code",
   "execution_count": 21,
   "metadata": {},
   "outputs": [
    {
     "name": "stdout",
     "output_type": "stream",
     "text": [
      "Gracefully stopping... (press Ctrl+C again to force)\n"
     ]
    }
   ],
   "source": [
    "estimator.delete_endpoint()"
   ]
  },
  {
   "cell_type": "code",
   "execution_count": null,
   "metadata": {},
   "outputs": [],
   "source": []
  },
  {
   "cell_type": "code",
   "execution_count": null,
   "metadata": {},
   "outputs": [],
   "source": []
  },
  {
   "cell_type": "code",
   "execution_count": 22,
   "metadata": {},
   "outputs": [],
   "source": [
    "# End of File"
   ]
  }
 ],
 "metadata": {
  "kernelspec": {
   "display_name": "Python 3",
   "language": "python",
   "name": "python3"
  },
  "language_info": {
   "codemirror_mode": {
    "name": "ipython",
    "version": 3
   },
   "file_extension": ".py",
   "mimetype": "text/x-python",
   "name": "python",
   "nbconvert_exporter": "python",
   "pygments_lexer": "ipython3",
   "version": "3.7.3"
  },
  "toc": {
   "base_numbering": 1,
   "nav_menu": {},
   "number_sections": true,
   "sideBar": true,
   "skip_h1_title": true,
   "title_cell": "Table of Contents",
   "title_sidebar": "Contents",
   "toc_cell": true,
   "toc_position": {},
   "toc_section_display": true,
   "toc_window_display": true
  }
 },
 "nbformat": 4,
 "nbformat_minor": 4
}
